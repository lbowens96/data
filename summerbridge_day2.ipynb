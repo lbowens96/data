{
 "cells": [
  {
   "cell_type": "code",
   "execution_count": null,
   "id": "5c971fc3-1dcd-46cc-a8e8-af42fdc9c90c",
   "metadata": {},
   "outputs": [],
   "source": [
    "3 + 7"
   ]
  },
  {
   "cell_type": "code",
   "execution_count": null,
   "id": "eaccb08a-a35b-464f-a199-5699d7fa7715",
   "metadata": {},
   "outputs": [],
   "source": [
    "print(\"hello\")"
   ]
  },
  {
   "cell_type": "code",
   "execution_count": null,
   "id": "8d6c77a7-3b22-42f1-8ea9-fb86a24702a5",
   "metadata": {},
   "outputs": [],
   "source": [
    "name = \"Lawrence\"\n",
    "age = 28"
   ]
  },
  {
   "cell_type": "code",
   "execution_count": null,
   "id": "599a5b5d-36c9-4dc8-8989-f0b2a171d5b7",
   "metadata": {},
   "outputs": [],
   "source": [
    "print(age)"
   ]
  },
  {
   "cell_type": "code",
   "execution_count": null,
   "id": "9ae1a198-9eaa-4602-ac67-3a1f02d52700",
   "metadata": {},
   "outputs": [],
   "source": [
    "# Initiates comment"
   ]
  },
  {
   "cell_type": "code",
   "execution_count": null,
   "id": "8b018b8d-a25f-45ca-b4d2-e2fceb7d29b0",
   "metadata": {},
   "outputs": [],
   "source": [
    "# Can echo without 'print'\n",
    "name"
   ]
  },
  {
   "cell_type": "markdown",
   "id": "675ac656-3bac-4a64-ad5b-cda35d77ee35",
   "metadata": {},
   "source": [
    "# Variables and Values"
   ]
  },
  {
   "cell_type": "code",
   "execution_count": null,
   "id": "518a3ecf-944d-4b03-bb14-ddd7a5fbbc51",
   "metadata": {},
   "outputs": [],
   "source": [
    "# Variables can be used in calculations\n",
    "print(age)\n",
    "age = age + 3\n",
    "print(age)"
   ]
  },
  {
   "cell_type": "code",
   "execution_count": null,
   "id": "7ecaa5db-539b-45c3-be15-bd59afc1c5d3",
   "metadata": {},
   "outputs": [],
   "source": [
    "# Order of operations matters!\n",
    "first = 1\n",
    "second = first*5\n",
    "first = 2\n",
    "\n",
    "print(first)\n",
    "print(second)"
   ]
  },
  {
   "cell_type": "code",
   "execution_count": null,
   "id": "449e4684-e90e-438c-9e7b-5799fa1ac720",
   "metadata": {},
   "outputs": [],
   "source": [
    "# Values have types. Types affect what you an do with them.\n",
    "print(5 - 3)\n",
    "# print(\"hello\" - \"h\")"
   ]
  },
  {
   "cell_type": "code",
   "execution_count": null,
   "id": "4ab35541-88fd-4c76-930f-9a2517ed00c4",
   "metadata": {},
   "outputs": [],
   "source": [
    "# 'len' function provides the length of characters in the paranthese\n",
    "print(len(\"hello\"))\n",
    "# print(len(6))"
   ]
  },
  {
   "cell_type": "markdown",
   "id": "85d57796-5f67-4d38-a75e-e4e61fd26bfb",
   "metadata": {},
   "source": [
    "## Challenge 1\n",
    "Explain what each operator does"
   ]
  },
  {
   "cell_type": "code",
   "execution_count": null,
   "id": "a4df8e4d-b3a1-412c-b1b4-7116caac1068",
   "metadata": {},
   "outputs": [],
   "source": [
    "# '//' function for floor operator; gives you main part of answer after division. For example this would normally result\n",
    "# in 1 remainder 2, so only 1 will show.\n",
    "print(5//3)\n",
    "\n",
    "# '/' function for division\n",
    "print(5/3)\n",
    "\n",
    "# '%' function is opposite of floor operator where it gives you the remainder instead of the whole after division.\n",
    "print(5%3)"
   ]
  },
  {
   "cell_type": "markdown",
   "id": "0a97d8ad-1639-4fa2-a761-f9115a12d4b1",
   "metadata": {},
   "source": [
    "# Getting Help"
   ]
  },
  {
   "cell_type": "code",
   "execution_count": null,
   "id": "9424175c-62ff-47b1-8840-6ccf57c587bb",
   "metadata": {},
   "outputs": [],
   "source": [
    "# Rounding numbers is built in\n",
    "round(3.14159)"
   ]
  },
  {
   "cell_type": "code",
   "execution_count": null,
   "id": "d33c0d05-5374-4557-9bc1-ed8114ef58a2",
   "metadata": {},
   "outputs": [],
   "source": [
    "# Rounds the number before the combo to 2 decimal places\n",
    "round(3.14159,2)"
   ]
  },
  {
   "cell_type": "code",
   "execution_count": null,
   "id": "10a42ff3-1b66-466c-828c-f1abfcbb9425",
   "metadata": {},
   "outputs": [],
   "source": [
    "# 'help' function\n",
    "help(round)"
   ]
  },
  {
   "cell_type": "code",
   "execution_count": null,
   "id": "ef0ad13d-8ff0-43e3-bf33-921c98bce865",
   "metadata": {},
   "outputs": [],
   "source": [
    "# All functions return a new value\n",
    "rounded_pi = round(3.14159,2)\n",
    "print(rounded_pi)"
   ]
  },
  {
   "cell_type": "markdown",
   "id": "6e6ea508-e46e-437f-80bc-4e2021e8844f",
   "metadata": {},
   "source": [
    "## Challenge 2\n",
    "In what order do the operations happen?"
   ]
  },
  {
   "cell_type": "code",
   "execution_count": null,
   "id": "b72cb7bb-17c5-47bb-8449-68aeaac7c990",
   "metadata": {},
   "outputs": [],
   "source": [
    "help(min)"
   ]
  },
  {
   "cell_type": "code",
   "execution_count": null,
   "id": "cfd9c375-e0a2-4fb3-9c28-673e8127acec",
   "metadata": {},
   "outputs": [],
   "source": [
    "help(max)"
   ]
  },
  {
   "cell_type": "code",
   "execution_count": null,
   "id": "e81588f7-b0f5-432c-aaf6-55c34cb50c93",
   "metadata": {},
   "outputs": [],
   "source": [
    "# Smallest value assigned to 'radiance' variable\n",
    "radiance = 1.0\n",
    "\n",
    "# Maximum value of the MINIMUM of a submitted function\n",
    "radiance = max(2.1,2.0+min(radiance, 1.1*radiance-0.5))\n",
    "\n",
    "print(radiance)"
   ]
  },
  {
   "cell_type": "code",
   "execution_count": null,
   "id": "cb408398-0e71-4b16-a1f2-9fecec64223e",
   "metadata": {},
   "outputs": [],
   "source": [
    "# Break down these operations\n",
    "radiance = 1.0\n",
    "\n",
    "# 'arg' is argument\n",
    "min_arg_2 = 1.1 * radiance - 0.5\n",
    "print (\"Min arg 2 =\", min_arg_2)\n",
    "\n",
    "min_result = min(radiance, min_arg_2)\n",
    "print(\"Min result =\", min_result)\n",
    "\n",
    "radiance = max(2.1, 2.0 + min_result)\n",
    "print(radiance)"
   ]
  },
  {
   "cell_type": "markdown",
   "id": "166fe67a-2757-46b9-b5d1-d67b9b5f2328",
   "metadata": {},
   "source": [
    "# Libraries"
   ]
  },
  {
   "cell_type": "code",
   "execution_count": null,
   "id": "0c85acd1-fd43-48c4-afae-4960d9cfc982",
   "metadata": {},
   "outputs": [],
   "source": [
    "import math"
   ]
  },
  {
   "cell_type": "code",
   "execution_count": null,
   "id": "b902a558-82e1-463d-9901-0a5ef4cf8411",
   "metadata": {},
   "outputs": [],
   "source": [
    "# Just pi results in an error so you have to use:\n",
    "\n",
    "math.pi"
   ]
  },
  {
   "cell_type": "code",
   "execution_count": null,
   "id": "500216ea-f5b9-4033-85d6-cc245ba70b86",
   "metadata": {},
   "outputs": [],
   "source": [
    "print(math.pi)\n",
    "print(math.cos(math.pi))"
   ]
  },
  {
   "cell_type": "code",
   "execution_count": null,
   "id": "bf475309-b93a-4e7d-a396-5bc1a95bed8a",
   "metadata": {},
   "outputs": [],
   "source": [
    "# Super useful when wanting to check all math functions\n",
    "\n",
    "help(math)"
   ]
  },
  {
   "cell_type": "code",
   "execution_count": null,
   "id": "a709aef6-ca45-4f1a-86bf-036c8016d6a6",
   "metadata": {},
   "outputs": [],
   "source": [
    "# Get a list of options with:\n",
    "\n",
    "print(dir(math)) # 'print' lists the directory with commas; Without 'print' it'll list it in a long column"
   ]
  },
  {
   "cell_type": "markdown",
   "id": "69364b7b-b297-4857-8ec1-2e3461feb517",
   "metadata": {},
   "source": [
    "# List"
   ]
  },
  {
   "cell_type": "code",
   "execution_count": null,
   "id": "71c5f2b7-1418-4f86-92e1-b699406a317b",
   "metadata": {},
   "outputs": [],
   "source": [
    "#List\n",
    "fruits = [\"apple\", \"banana\", \"cherry\", \"date\", \"elderberry\", \"fig\"]"
   ]
  },
  {
   "cell_type": "code",
   "execution_count": null,
   "id": "b527f512-ff9d-41f9-9b18-a44ffaf67702",
   "metadata": {},
   "outputs": [],
   "source": [
    "len(fruits)"
   ]
  },
  {
   "cell_type": "code",
   "execution_count": null,
   "id": "429e1474-4bff-4c19-ab02-636a9da37067",
   "metadata": {},
   "outputs": [],
   "source": [
    "# Python starts at 0 when indexing\n",
    "print(fruits[0])\n",
    "print(fruits[4])"
   ]
  },
  {
   "cell_type": "code",
   "execution_count": null,
   "id": "2ea17dd7-9108-45ef-b3aa-27227c38f4f8",
   "metadata": {},
   "outputs": [],
   "source": [
    "# Subsets by slicing list\n",
    "# First 3 items\n",
    "fruits[0:3] # [initial indexed position : indexed position +1]"
   ]
  },
  {
   "cell_type": "code",
   "execution_count": null,
   "id": "76d9a575-5dbe-4b05-9388-d120aaafce9c",
   "metadata": {},
   "outputs": [],
   "source": [
    "fruits[2:5]"
   ]
  },
  {
   "cell_type": "code",
   "execution_count": null,
   "id": "9f1dc615-d69b-4767-9e35-ceaf35722f0e",
   "metadata": {},
   "outputs": [],
   "source": [
    "# Items by step\n",
    "# Get first 5 items, every other item\n",
    "fruits[0:5:2] # [initial indexed position : indexed position +1 : step]"
   ]
  },
  {
   "cell_type": "markdown",
   "id": "10c50898-dd7f-44b7-b03d-998b4d037181",
   "metadata": {},
   "source": [
    "# Challenge 3\n",
    "\n",
    "What are the following statements doing?"
   ]
  },
  {
   "cell_type": "code",
   "execution_count": null,
   "id": "ad0bd851-b009-4f33-a32b-53e572ce4175",
   "metadata": {},
   "outputs": [],
   "source": [
    "# Calling the -1 position of the index in the opposite direction, which starts at -1 instead of 0\n",
    "print(fruits[-1])\n",
    "\n",
    "# print(fruits[20]) won't show unindexed\n",
    "\n",
    "# Calling -3 position to the end in the forward direction\n",
    "print(fruits[-3:])"
   ]
  },
  {
   "cell_type": "markdown",
   "id": "1077c948-8807-49df-81bc-7df859874221",
   "metadata": {},
   "source": [
    "# Adding Stuff to Lists"
   ]
  },
  {
   "cell_type": "code",
   "execution_count": null,
   "id": "1c328f08-f03a-4671-8085-ecef59acc9dc",
   "metadata": {},
   "outputs": [],
   "source": [
    "# Update specific item\n",
    "print(fruits)\n",
    "\n",
    "fruits[0] = \"apricot\"\n",
    "print(fruits)"
   ]
  },
  {
   "cell_type": "code",
   "execution_count": null,
   "id": "eef5d95e-eead-4b3c-a163-b4b69f3068ca",
   "metadata": {},
   "outputs": [],
   "source": [
    "# Add new items to the list\n",
    "fruits.append(\"grape\")\n",
    "\n",
    "print(fruits)"
   ]
  },
  {
   "cell_type": "code",
   "execution_count": null,
   "id": "17c6e953-d8e9-4f98-a0c2-433c08538b77",
   "metadata": {},
   "outputs": [],
   "source": [
    "# Add items from second list to first list\n",
    "more_fruits = [\"honeydew\", \"imbe\", \"jackfruit\"]\n",
    "\n",
    "fruits.extend(more_fruits) # append function would add the second list to the end of the first list instead of integrating it.\n",
    "print(fruits)"
   ]
  },
  {
   "cell_type": "code",
   "execution_count": null,
   "id": "001db000-00b6-4d8c-aec0-69568adfcf93",
   "metadata": {},
   "outputs": [],
   "source": [
    "# Many functions that operate on collections\n",
    "# For example: Assessing our wide receiving corp\n",
    "receiving_yards = [450, 370, 870, 150]\n",
    "mean_yards = sum(receiving_yards)/len(receiving_yards)\n",
    "print(mean_yards)"
   ]
  },
  {
   "cell_type": "markdown",
   "id": "819f6f5f-fb06-4c20-919c-47facf6735e6",
   "metadata": {},
   "source": [
    "# For Loops"
   ]
  },
  {
   "cell_type": "code",
   "execution_count": null,
   "id": "ae00607d-baaa-4792-a952-edec1d207175",
   "metadata": {},
   "outputs": [],
   "source": [
    "# fruit is a temporary variable so we can print every item in the fruits list (literally could be called bob)\n",
    "for fruit in fruits:\n",
    "    print(fruit)"
   ]
  },
  {
   "cell_type": "code",
   "execution_count": null,
   "id": "fd67d3c3-2425-4006-9063-3bebe19be3c9",
   "metadata": {},
   "outputs": [],
   "source": [
    "# Code blocks can contain many statements\n",
    "primes = [2, 3, 5]\n",
    "for p in primes:\n",
    "    squared = p ** 2\n",
    "    cubed = p ** 3\n",
    "    print(p, squared, cubed)"
   ]
  },
  {
   "cell_type": "code",
   "execution_count": null,
   "id": "d25a12ef-2ba2-4fc2-a8e2-31b002c6291d",
   "metadata": {},
   "outputs": [],
   "source": [
    "# Create a new collection from an existing collection\n",
    "\n",
    "primes_squared = []\n",
    "for p in primes:\n",
    "    primes_squared.append(p**2)\n",
    "\n",
    "print(primes_squared)"
   ]
  },
  {
   "cell_type": "markdown",
   "id": "6c2d321b-500d-49f3-a948-f9ebabb81683",
   "metadata": {},
   "source": [
    "## Challenge 4\n",
    "\n",
    "Get the total length of all the items in the fruits list."
   ]
  },
  {
   "cell_type": "code",
   "execution_count": null,
   "id": "45b622b4-d2bb-4c04-b489-02f8a2957fab",
   "metadata": {},
   "outputs": [],
   "source": [
    "help(sum)"
   ]
  },
  {
   "cell_type": "code",
   "execution_count": null,
   "id": "f704e01e-9309-4c4b-ad19-f30f0631f09c",
   "metadata": {},
   "outputs": [],
   "source": [
    "# Solution 1\n",
    "fruit_lengths = []\n",
    "for f in fruits:\n",
    "    fruit_lengths.append(len(f))\n",
    "\n",
    "print(fruit_lengths)\n",
    "print(sum(fruit_lengths))"
   ]
  },
  {
   "cell_type": "code",
   "execution_count": null,
   "id": "fb34454b-4fcd-43c6-b38e-32bacae9e563",
   "metadata": {},
   "outputs": [],
   "source": [
    "# Solution 2\n",
    "count = 0\n",
    "for f in fruits:\n",
    "    count = count + len(f)\n",
    "\n",
    "print(count)"
   ]
  },
  {
   "cell_type": "code",
   "execution_count": null,
   "id": "4fc179b8-5018-4ef4-b6f8-40f5ba67ae48",
   "metadata": {},
   "outputs": [],
   "source": [
    "# Solution 3\n",
    "# Generator Comprehension\n",
    "sum(len(f) for f in fruits)"
   ]
  },
  {
   "cell_type": "code",
   "execution_count": null,
   "id": "72946b27-aada-4ff6-bb3b-adc8c705818c",
   "metadata": {},
   "outputs": [],
   "source": [
    "# Solution 4 - Squishes the list into one word of characters so you can 'len' the squished word\n",
    "len(\"\".join(fruits))"
   ]
  },
  {
   "cell_type": "markdown",
   "id": "36865dd3-1bed-4b4a-84be-28283d65902f",
   "metadata": {},
   "source": [
    "# Linear Algebra with NumPy"
   ]
  },
  {
   "cell_type": "code",
   "execution_count": null,
   "id": "6a225716-f602-45ac-8208-9019168c003a",
   "metadata": {},
   "outputs": [],
   "source": [
    "import numpy as np # 'as np' allows you to only have to type this once"
   ]
  },
  {
   "cell_type": "code",
   "execution_count": null,
   "id": "93f97fd3-84d1-492d-b9c2-984859cfcb34",
   "metadata": {},
   "outputs": [],
   "source": [
    "# Create an array of random number\n",
    "m_rand = np.random.rand(3, 4)\n",
    "print(m_rand)"
   ]
  },
  {
   "cell_type": "code",
   "execution_count": null,
   "id": "e7edcf28-cdbb-4399-a4b1-28283bd8f3c0",
   "metadata": {},
   "outputs": [],
   "source": [
    "m_rand[0, 0]"
   ]
  },
  {
   "cell_type": "code",
   "execution_count": null,
   "id": "7afb2c29-7f62-43dd-9cde-3e06c4c14112",
   "metadata": {},
   "outputs": [],
   "source": [
    "m_rand[0, 1]"
   ]
  },
  {
   "cell_type": "code",
   "execution_count": null,
   "id": "056dc2ae-71d9-4fd4-9382-a5d125ec792d",
   "metadata": {},
   "outputs": [],
   "source": [
    "# Arrays have attributes\n",
    "print(m_rand.shape)\n",
    "print(m_rand.size)\n",
    "print(m_rand.ndim)"
   ]
  },
  {
   "cell_type": "code",
   "execution_count": null,
   "id": "8b256746-5d71-443a-8536-9305e1e53b6f",
   "metadata": {},
   "outputs": [],
   "source": [
    "# Linear algebra\n",
    "x = np.arange(9)\n",
    "y = np.arange(9)\n",
    "\n",
    "print(x)\n",
    "print(y)"
   ]
  },
  {
   "cell_type": "code",
   "execution_count": null,
   "id": "48bc85db-0b1d-4427-809a-6ab07a57366f",
   "metadata": {},
   "outputs": [],
   "source": [
    "x * y"
   ]
  },
  {
   "cell_type": "code",
   "execution_count": null,
   "id": "aad593e6-dfca-46fd-a540-08f871407112",
   "metadata": {},
   "outputs": [],
   "source": [
    "# Matrix-wise operations if you like\n",
    "x @ y"
   ]
  },
  {
   "cell_type": "code",
   "execution_count": null,
   "id": "19864c02-55f9-4252-8062-167890421c82",
   "metadata": {},
   "outputs": [],
   "source": [
    "# You can reshape arrays\n",
    "x1 = x.reshape(3, 3)\n",
    "x2 = x.reshape(9, 1)\n",
    "\n",
    "print(x)\n",
    "print(x1)\n",
    "print(x2)"
   ]
  },
  {
   "cell_type": "markdown",
   "id": "122b3835-5eba-4174-9488-f8cde0c71c0f",
   "metadata": {},
   "source": [
    "## Challenge\n",
    "\n",
    "1. Create a 3 x 3 array containing the number 0-8\n",
    "2. Multiply the array by itself (elementwise)\n",
    "3. Multiply the array by its transpose\n",
    "4. Divide the array by itself"
   ]
  },
  {
   "cell_type": "code",
   "execution_count": null,
   "id": "63309d94-c62e-4ae9-b82f-879608fe01ee",
   "metadata": {},
   "outputs": [],
   "source": [
    "# Use method chaining to do more work on one line\n",
    "\n",
    "demo = np.arange(9).reshape(3, 3)\n",
    "\n",
    "print(demo)"
   ]
  },
  {
   "cell_type": "code",
   "execution_count": null,
   "id": "faa2870e-f53b-4c26-b4e9-e9b7e5980e4c",
   "metadata": {},
   "outputs": [],
   "source": [
    "demo * demo"
   ]
  },
  {
   "cell_type": "code",
   "execution_count": null,
   "id": "871d441b-0399-4aa0-a176-a8042dc7c978",
   "metadata": {},
   "outputs": [],
   "source": [
    "# Get transpose, method 1\n",
    "\n",
    "demo * demo.T # Using '.T'"
   ]
  },
  {
   "cell_type": "code",
   "execution_count": null,
   "id": "8fe0cae3-4127-4e28-819d-2672545a850c",
   "metadata": {},
   "outputs": [],
   "source": [
    "# Get transpose, method 2\n",
    "\n",
    "demo * np.transpose(demo) # Using np.transpose()"
   ]
  },
  {
   "cell_type": "code",
   "execution_count": null,
   "id": "3a6eb7d9-e52f-4c42-9911-e94db20d266e",
   "metadata": {},
   "outputs": [],
   "source": [
    "#demo / demo"
   ]
  },
  {
   "cell_type": "markdown",
   "id": "a34ae54a-a53f-413a-89ee-7bf18fc0caca",
   "metadata": {},
   "source": [
    "# Working with data in Pandas"
   ]
  },
  {
   "cell_type": "code",
   "execution_count": null,
   "id": "a913bc7a-d432-4f8b-a408-27669fb0960b",
   "metadata": {},
   "outputs": [],
   "source": [
    "import pandas as pd"
   ]
  },
  {
   "cell_type": "code",
   "execution_count": null,
   "id": "26feb52c-bf1c-4ea5-ac8a-35d3671d565c",
   "metadata": {},
   "outputs": [],
   "source": [
    "data = pd.read_csv(\"gapminder_gdp_oceania.csv\")\n",
    "\n",
    "print(data)"
   ]
  },
  {
   "cell_type": "code",
   "execution_count": null,
   "id": "f8d36c37-36dd-4965-952a-94d60b9306c4",
   "metadata": {},
   "outputs": [],
   "source": [
    "data"
   ]
  },
  {
   "cell_type": "code",
   "execution_count": null,
   "id": "a7497ee5-ff9a-4ef5-8c7b-9339fa94a9f0",
   "metadata": {},
   "outputs": [],
   "source": [
    "# Import .csv and index by country name\n",
    "\n",
    "data = pd.read_csv(\"gapminder_gdp_oceania.csv\", index_col = \"country\")"
   ]
  },
  {
   "cell_type": "code",
   "execution_count": null,
   "id": "504a8d1a-9011-403b-9836-a5d19c7d99e9",
   "metadata": {},
   "outputs": [],
   "source": [
    "data"
   ]
  },
  {
   "cell_type": "code",
   "execution_count": null,
   "id": "b7149b30-74c4-41fc-a9e4-d3307a6c686f",
   "metadata": {},
   "outputs": [],
   "source": [
    "# Good advice for Python\n",
    "\n",
    "import this"
   ]
  },
  {
   "cell_type": "code",
   "execution_count": null,
   "id": "c67bacb3-6b71-4dbf-841d-0ef0fff5ccc6",
   "metadata": {},
   "outputs": [],
   "source": [
    "# Data frames have attributes\n",
    "\n",
    "print(data.index)\n",
    "print(data.columns)\n",
    "print(data.shape)"
   ]
  },
  {
   "cell_type": "code",
   "execution_count": null,
   "id": "d9eee382-1311-4067-85a7-81e10a24797d",
   "metadata": {},
   "outputs": [],
   "source": [
    "# Data frames can tell you about their contents\n",
    "\n",
    "data.info()"
   ]
  },
  {
   "cell_type": "code",
   "execution_count": null,
   "id": "3c0ee01b-72cc-4783-8abe-bd43d60f0eae",
   "metadata": {},
   "outputs": [],
   "source": [
    "# Get descriptive statistics\n",
    "data.describe()"
   ]
  },
  {
   "cell_type": "code",
   "execution_count": null,
   "id": "a02fd2d7-01a7-4330-880a-07927b0eb0f9",
   "metadata": {},
   "outputs": [],
   "source": [
    "# Get the first N rows\n",
    "data.head(1)"
   ]
  },
  {
   "cell_type": "markdown",
   "id": "73a51792-bf87-4d51-a5b8-1c8cbb4645c1",
   "metadata": {},
   "source": [
    "# Subsetting Data"
   ]
  },
  {
   "cell_type": "code",
   "execution_count": null,
   "id": "d4177119-49a7-4545-8549-3b507f1418ba",
   "metadata": {},
   "outputs": [],
   "source": [
    "data = pd.read_csv(\"gapminder_gdp_europe.csv\", index_col = \"country\")"
   ]
  },
  {
   "cell_type": "code",
   "execution_count": null,
   "id": "3385de12-0592-4882-80ab-8b94200ed588",
   "metadata": {},
   "outputs": [],
   "source": [
    "data.head(3)"
   ]
  },
  {
   "cell_type": "code",
   "execution_count": null,
   "id": "281e92b1-3199-4db5-8b02-f5b5f1b0f680",
   "metadata": {},
   "outputs": [],
   "source": [
    "# Get item by index location\n",
    "data.iloc[0,0]"
   ]
  },
  {
   "cell_type": "code",
   "execution_count": null,
   "id": "cc4b8ec4-6f91-4345-8a0a-391eabc381ac",
   "metadata": {},
   "outputs": [],
   "source": [
    "# Get item by label\n",
    "data.loc[\"Albania\", \"gdpPercap_1952\"]"
   ]
  },
  {
   "cell_type": "markdown",
   "id": "b9ef1c5a-dbc1-4abf-b6f6-40bd4dc4d7a1",
   "metadata": {},
   "source": [
    "# A brief digression on string methods"
   ]
  },
  {
   "cell_type": "code",
   "execution_count": null,
   "id": "b184f3c4-04b0-439b-8262-63fa2629259c",
   "metadata": {},
   "outputs": [],
   "source": [
    "# Standard has string methods\n",
    "\n",
    "big_hello = \"hello\".title()\n",
    "print(big_hello)"
   ]
  },
  {
   "cell_type": "code",
   "execution_count": null,
   "id": "ee5e98ae-9ee1-436c-ae68-9a3dda433022",
   "metadata": {},
   "outputs": [],
   "source": [
    "help(\"hello\".title)"
   ]
  },
  {
   "cell_type": "code",
   "execution_count": null,
   "id": "7103eab4-a650-4ccc-98c1-7dddc775710f",
   "metadata": {},
   "outputs": [],
   "source": [
    "# What methods are available?\n",
    "\n",
    "print(dir(\"hello\"))"
   ]
  },
  {
   "cell_type": "code",
   "execution_count": null,
   "id": "b4ef45f1-b695-437f-8aa4-000d43193176",
   "metadata": {},
   "outputs": [],
   "source": [
    "print(data.columns)"
   ]
  },
  {
   "cell_type": "code",
   "execution_count": null,
   "id": "0a95fa77-5712-4439-a8f3-ab3068702a82",
   "metadata": {},
   "outputs": [],
   "source": [
    "print(dir(data.columns.str))"
   ]
  },
  {
   "cell_type": "code",
   "execution_count": null,
   "id": "2e64827a-78c9-4924-a5fb-2fd367fc627f",
   "metadata": {},
   "outputs": [],
   "source": [
    "# Rewrite column headers to strip off leading text\n",
    "\n",
    "data.columns = data.columns.str.strip(\"gdpPercap_\")\n",
    "print(data.columns)"
   ]
  },
  {
   "cell_type": "code",
   "execution_count": null,
   "id": "169890cf-d38c-4a85-b49b-647bb8fba4d9",
   "metadata": {},
   "outputs": [],
   "source": [
    "data.loc[\"Albania\", \"1952\"]"
   ]
  },
  {
   "cell_type": "code",
   "execution_count": null,
   "id": "32f18bc1-9551-4de8-bbb0-118760634bb7",
   "metadata": {},
   "outputs": [],
   "source": [
    "subset = data.loc[\"Italy\":\"Poland\", \"1962\":\"1972\"]"
   ]
  },
  {
   "cell_type": "code",
   "execution_count": null,
   "id": "c669feb7-f399-43bb-8d78-9f502b10d5d5",
   "metadata": {},
   "outputs": [],
   "source": [
    "subset"
   ]
  },
  {
   "cell_type": "code",
   "execution_count": null,
   "id": "b63c7eec-ef11-45bb-9ed6-71b35cb0c893",
   "metadata": {},
   "outputs": [],
   "source": [
    "# Get all of the variables for a subset of rows\n",
    "data.loc[\"Italy\": \"Poland\", :]"
   ]
  },
  {
   "cell_type": "code",
   "execution_count": null,
   "id": "1e1e91db-6d38-43e2-9a7b-0157b0a22a94",
   "metadata": {},
   "outputs": [],
   "source": [
    "subset.describe()"
   ]
  },
  {
   "cell_type": "code",
   "execution_count": null,
   "id": "a8cb06b4-6bf6-45fa-89c9-9e29a506f9e0",
   "metadata": {},
   "outputs": [],
   "source": [
    "subset.max()"
   ]
  },
  {
   "cell_type": "markdown",
   "id": "6f46d9cd-3bc3-4fc4-8c62-91baaad4a809",
   "metadata": {},
   "source": [
    "## Challenge\n",
    "\n",
    "1. Calculate subset.max() and assign the results to a variable. What kind of thing is it?\n",
    "2. What is the maximum value of the new thing?\n",
    "3. Can you calculate the max value of the new thing in 1 step?"
   ]
  },
  {
   "cell_type": "code",
   "execution_count": null,
   "id": "a0eb72b5-08bb-42e7-9431-6b7456eecae9",
   "metadata": {},
   "outputs": [],
   "source": [
    "#Solution\n",
    "\n",
    "print(\"Default max\")\n",
    "print(subset.max())\n",
    "print(\"Max along axis 0\")\n",
    "print(subset.max(axis = 0))\n",
    "print(\"Max along axis 1\")\n",
    "print(subset.max(axis = 1))"
   ]
  },
  {
   "cell_type": "code",
   "execution_count": null,
   "id": "2f21ced1-5daa-47e8-a226-1334f64c2bd9",
   "metadata": {},
   "outputs": [],
   "source": [
    "# Get max for overall data frame\n",
    "subset.max(axis = None)"
   ]
  },
  {
   "cell_type": "markdown",
   "id": "5955477d-f6ea-4b22-8c8f-830e15312abb",
   "metadata": {},
   "source": [
    "# Filter data by criterion"
   ]
  },
  {
   "cell_type": "code",
   "execution_count": null,
   "id": "dc2fdb4f-2371-438f-a236-5d0792035d4e",
   "metadata": {},
   "outputs": [],
   "source": [
    "subset"
   ]
  },
  {
   "cell_type": "code",
   "execution_count": null,
   "id": "e1f807b1-75a2-40ba-8e70-c4f3a5dc0283",
   "metadata": {},
   "outputs": [],
   "source": [
    "# Get GDP greater than 10,000\n",
    "subset > 10000"
   ]
  },
  {
   "cell_type": "code",
   "execution_count": null,
   "id": "d25e7995-e6b1-47f8-a9db-ec3faad60643",
   "metadata": {},
   "outputs": [],
   "source": [
    "# Filter the data frame by the criterion\n",
    "df = subset[subset > 10000]\n",
    "df"
   ]
  },
  {
   "cell_type": "code",
   "execution_count": null,
   "id": "b276ab33-ce18-46ef-90d3-d9a1db072e4e",
   "metadata": {},
   "outputs": [],
   "source": [
    "# Get everything above the median\n",
    "subset[subset > subset.median(axis = None)]"
   ]
  },
  {
   "cell_type": "markdown",
   "id": "4a1696a7-e862-4b0c-b444-bb6562a8e6e2",
   "metadata": {},
   "source": [
    "# Working with Missing Data"
   ]
  },
  {
   "cell_type": "code",
   "execution_count": null,
   "id": "42332712-0091-4b06-bb65-59a32018c612",
   "metadata": {},
   "outputs": [],
   "source": [
    "# Missing data is ignored by default\n",
    "print(\"Column menas\")\n",
    "print(df.mean())\n",
    "\n",
    "print(\"Row means\")\n",
    "print(df.mean(axis = 1))"
   ]
  },
  {
   "cell_type": "code",
   "execution_count": null,
   "id": "f7602af3-748f-4241-9644-5bc74600c4e4",
   "metadata": {},
   "outputs": [],
   "source": [
    "# Check for missing values\n",
    "df.isna()"
   ]
  },
  {
   "cell_type": "code",
   "execution_count": null,
   "id": "fb77b521-7611-45f2-8b77-1dcf7fa5f44b",
   "metadata": {},
   "outputs": [],
   "source": [
    "# Count our missing values\n",
    "# Missing by row\n",
    "df.isna().sum()"
   ]
  },
  {
   "cell_type": "code",
   "execution_count": null,
   "id": "ceb6b906-bb9d-4aad-b4fe-45c316fb6303",
   "metadata": {},
   "outputs": [],
   "source": [
    "# Check total missing values\n",
    "df.isna().sum().sum()"
   ]
  },
  {
   "cell_type": "code",
   "execution_count": null,
   "id": "6eb77b4f-75e6-4d65-b11b-dd2041f27500",
   "metadata": {},
   "outputs": [],
   "source": [
    "df"
   ]
  },
  {
   "cell_type": "code",
   "execution_count": null,
   "id": "d55fcc55-fead-4f0d-bf3c-1d9e0f1dcd60",
   "metadata": {},
   "outputs": [],
   "source": [
    "# Drop missing values\n",
    "df.dropna()"
   ]
  },
  {
   "cell_type": "code",
   "execution_count": null,
   "id": "dff1c7a7-ad85-493e-827c-b7079ea2799f",
   "metadata": {},
   "outputs": [],
   "source": [
    "# Replace missing values with a fixed value\n",
    "df_fixed = df.fillna(99)\n",
    "print(df_fixed)"
   ]
  },
  {
   "cell_type": "code",
   "execution_count": null,
   "id": "f64ed9ac-d906-4903-9e58-167bb3c1d188",
   "metadata": {},
   "outputs": [],
   "source": [
    "# Replace missing values with interpolated data\n",
    "df_interpolated = df.interpolate()\n",
    "print(df_interpolated)"
   ]
  },
  {
   "cell_type": "markdown",
   "id": "24bc5eb7-5dfb-4f5a-9f62-ae72572605d9",
   "metadata": {},
   "source": [
    "## Challenge: The perils of missing data\n",
    "1. Create an array of random numbers matching the \"data\" dataframe\n",
    "\n",
    "random_filter = np.random.rand(30,12) * data.max(axis = None)\n",
    "\n",
    "2. Create a new dataframe that filters out all values lower than the random numbers\n",
    "3. Interpolate new values for the missing data in the new data frame. How accurate are they?"
   ]
  },
  {
   "cell_type": "code",
   "execution_count": null,
   "id": "8e7f11b3-2a5c-411d-8280-3620f092b8c7",
   "metadata": {},
   "outputs": [],
   "source": [
    "# My attempt\n",
    "\n",
    "random_filter = np.random.rand(30, 12) * data.max(axis = None)"
   ]
  },
  {
   "cell_type": "code",
   "execution_count": null,
   "id": "79917135-7489-4937-a0c7-eec399a5eb5c",
   "metadata": {},
   "outputs": [],
   "source": [
    "filtered_data = data.where(data >= random_filter)"
   ]
  },
  {
   "cell_type": "code",
   "execution_count": null,
   "id": "c7bb97e0-938a-4117-b1df-98f1e7ab1513",
   "metadata": {},
   "outputs": [],
   "source": [
    "filtered_data"
   ]
  },
  {
   "cell_type": "code",
   "execution_count": null,
   "id": "50355710-b545-4d41-bc9f-15d3ae594e17",
   "metadata": {},
   "outputs": [],
   "source": [
    "interpolated_data = filtered_data.interpolate(method='linear', axis=0, limit_direction='both')\n",
    "interpolated_data"
   ]
  },
  {
   "cell_type": "code",
   "execution_count": null,
   "id": "fc0a1532-2f5f-462f-87b1-a7ed8c134430",
   "metadata": {},
   "outputs": [],
   "source": [
    "# Solution\n",
    "\n",
    "new_data = data[data > random_filter]"
   ]
  },
  {
   "cell_type": "code",
   "execution_count": null,
   "id": "f5b440c6-2c4a-4b51-a0db-8091874ce0a8",
   "metadata": {},
   "outputs": [],
   "source": [
    "new_data"
   ]
  },
  {
   "cell_type": "code",
   "execution_count": null,
   "id": "1769fe31-1d51-4d62-adf0-75affc99ef4a",
   "metadata": {},
   "outputs": [],
   "source": [
    "new_data_int = new_data.interpolate()"
   ]
  },
  {
   "cell_type": "code",
   "execution_count": null,
   "id": "91ba9d63-2ccb-4ed5-b433-ef4f4f54f539",
   "metadata": {},
   "outputs": [],
   "source": [
    "new_data_int"
   ]
  },
  {
   "cell_type": "markdown",
   "id": "3e3c4c77-0417-46db-aa1f-8f8accc289f5",
   "metadata": {},
   "source": [
    "# Sorting and Grouping"
   ]
  },
  {
   "cell_type": "code",
   "execution_count": null,
   "id": "7fa37e2e-6d33-4cd3-b6fb-9b00fcaa28e7",
   "metadata": {},
   "outputs": [],
   "source": [
    "# Z score all of the GDP data points\n",
    "\n",
    "z = (data - data.mean(axis = None))/data.values.std(ddof = 1)"
   ]
  },
  {
   "cell_type": "code",
   "execution_count": null,
   "id": "875ee211-88f9-48f5-a10b-5e7883d8fc21",
   "metadata": {},
   "outputs": [],
   "source": [
    "# Get mean z score for each country\n",
    "mean_z = z.mean(axis = 1)\n",
    "mean_z"
   ]
  },
  {
   "cell_type": "code",
   "execution_count": null,
   "id": "2625b468-6afa-4049-abc6-34f75721018b",
   "metadata": {},
   "outputs": [],
   "source": [
    "bool_z = mean_z > 0\n",
    "bool_z"
   ]
  },
  {
   "cell_type": "code",
   "execution_count": null,
   "id": "9f76fee8-0f3d-4adf-a8cd-0cf1ee6a329d",
   "metadata": {},
   "outputs": [],
   "source": [
    "# Add new columns to data frame\n",
    "data[\"mean_z\"] = mean_z\n",
    "data[\"wealthy\"] = bool_z"
   ]
  },
  {
   "cell_type": "code",
   "execution_count": null,
   "id": "73b1c349-1061-44c9-9b27-7b91dd75f684",
   "metadata": {},
   "outputs": [],
   "source": [
    "data.head(3)"
   ]
  },
  {
   "cell_type": "code",
   "execution_count": null,
   "id": "ef9617ed-1f7f-4896-9236-ac20854cb666",
   "metadata": {},
   "outputs": [],
   "source": [
    "# Write output\n",
    "data.to_csv(\"europe.normed.csv\")"
   ]
  },
  {
   "cell_type": "markdown",
   "id": "66e6614c-c308-4ba0-b8fd-6b8f27ec9c0f",
   "metadata": {},
   "source": [
    "# Looping over data sets"
   ]
  },
  {
   "cell_type": "code",
   "execution_count": null,
   "id": "6af19c4d-eaf0-48c2-8a41-8f2878518bbf",
   "metadata": {},
   "outputs": [],
   "source": [
    "# Import data from files in a list\n",
    "file_list = [\"gapminder_gdp_africa.csv\", \"gapminder_gdp_asia.csv\"]\n",
    "\n",
    "for filename in file_list:\n",
    "    data = pd.read_csv(filename, index_col = \"country\")\n",
    "    print(filename)\n",
    "    print(data.head(1))"
   ]
  },
  {
   "cell_type": "code",
   "execution_count": null,
   "id": "fd64eaf8-4f5e-4c61-a4e1-d34cab849f1c",
   "metadata": {},
   "outputs": [],
   "source": [
    "# Automatically get list of files\n",
    "import glob"
   ]
  },
  {
   "cell_type": "code",
   "execution_count": null,
   "id": "d131fb1f-0c8b-4bde-90f0-f0dc81494ad0",
   "metadata": {},
   "outputs": [],
   "source": [
    "glob.glob(\"*.csv\") # Returns a list of everything that ends in .csv"
   ]
  },
  {
   "cell_type": "code",
   "execution_count": null,
   "id": "101b9c51-7e0d-47e3-88ba-6e4a60ef713d",
   "metadata": {},
   "outputs": [],
   "source": [
    "# Get all the csv or tsv files\n",
    "glob.glob(\"*.?sv\") # Returns a list of everything that is *sv"
   ]
  },
  {
   "cell_type": "code",
   "execution_count": null,
   "id": "fdf64b3f-9594-4be1-9f4a-3cd2474c452b",
   "metadata": {},
   "outputs": [],
   "source": [
    "# Get a list of all continents\n",
    "\n",
    "glob.glob(\"gapminder_gdp_*.csv\")"
   ]
  },
  {
   "cell_type": "code",
   "execution_count": null,
   "id": "a690030c-c171-4421-b20e-cc52f4632be6",
   "metadata": {},
   "outputs": [],
   "source": [
    "# Get continent-level data and aggregate into the 1 data frame\n",
    "\n",
    "data_frames = []\n",
    "\n",
    "for filename in glob.glob(\"gapminder_gdp_*.csv\"):\n",
    "    print(filename)\n",
    "    data = pd.read_csv(filename, index_col = \"country\")\n",
    "    data_frames.append(data)\n",
    "\n",
    "# Concatenate data frames\n",
    "all_data = pd.concat(data_frames)"
   ]
  },
  {
   "cell_type": "code",
   "execution_count": null,
   "id": "8608dd6e-f4b7-4bdb-995d-98412c628282",
   "metadata": {},
   "outputs": [],
   "source": [
    "# Inspect our results\n",
    "print(all_data.shape)\n",
    "print(all_data.index)"
   ]
  },
  {
   "cell_type": "markdown",
   "id": "9db88489-d9be-4d9c-beeb-5440ab715a2d",
   "metadata": {
    "editable": true,
    "slideshow": {
     "slide_type": ""
    },
    "tags": []
   },
   "source": [
    "# Conditionals"
   ]
  },
  {
   "cell_type": "code",
   "execution_count": null,
   "id": "24ef8c2c-838b-4c9d-9500-09726f527c6b",
   "metadata": {},
   "outputs": [],
   "source": [
    "# Does a file end in \"all.csv\"?\n",
    "for filename in glob.glob(\"gapminder*.csv\"):\n",
    "    print(\"Current file:\", filename)\n",
    "    print(filename.endswith(\"all.csv\"))"
   ]
  },
  {
   "cell_type": "code",
   "execution_count": null,
   "id": "f4cc875e-1258-474a-8372-b3a0ab044987",
   "metadata": {},
   "outputs": [],
   "source": [
    "# Get truth value of a statement\n",
    "mass = 3\n",
    "\n",
    "print(mass == 3) # '=' is an assignment '==' tests whether something is true or false\n",
    "print(mass > 5)\n",
    "print(mass < 4)"
   ]
  },
  {
   "cell_type": "code",
   "execution_count": null,
   "id": "eb3e1f15-5fcc-44b9-991b-d6d3fd7abd80",
   "metadata": {},
   "outputs": [],
   "source": [
    "# Test for membership in a collection\n",
    "primes = [2, 3, 5]\n",
    "\n",
    "print(2 in primes)\n",
    "print(8 in primes)"
   ]
  },
  {
   "cell_type": "code",
   "execution_count": null,
   "id": "0add7190-a630-4bae-8305-8e7da2350a55",
   "metadata": {},
   "outputs": [],
   "source": [
    "# Testing for missing values\n",
    "df.isna()"
   ]
  },
  {
   "cell_type": "code",
   "execution_count": null,
   "id": "e5116b49-af13-4439-840f-aec6a7e2f5c9",
   "metadata": {},
   "outputs": [],
   "source": [
    "# Are any values missing?\n",
    "df.isna().any(axis = None)"
   ]
  },
  {
   "cell_type": "code",
   "execution_count": null,
   "id": "8aabdc19-e1fd-4fd7-a9a3-1598b5d8957a",
   "metadata": {},
   "outputs": [],
   "source": [
    "# Make choices with if - then statement\n",
    "mass = 2.0\n",
    "\n",
    "if mass > 3.0:\n",
    "    print(mass, \"is large\")"
   ]
  },
  {
   "cell_type": "code",
   "execution_count": null,
   "id": "1d770308-b7f0-4a6c-babd-d2569e8247af",
   "metadata": {},
   "outputs": [],
   "source": [
    "# Test for files ending in \"all.csv\"\n",
    "data_frames = []\n",
    "\n",
    "for filename in glob.glob(\"gapminder*.csv\"):\n",
    "    print(filename)\n",
    "    if not filename.endswith(\"all.csv\"):\n",
    "        print(\"Passes test:\", filename)\n",
    "        data = pd.read_csv(filename, index_col = \"country\")\n",
    "        data_frames.append(data)\n",
    "\n",
    "all_data = pd.concat(data_frames)\n",
    "print(all_data.shape)"
   ]
  },
  {
   "cell_type": "code",
   "execution_count": null,
   "id": "4fb8147e-0d9d-49f8-92a5-2846fa18589c",
   "metadata": {},
   "outputs": [],
   "source": [
    "# Add an else condition\n",
    "mass = 3.5\n",
    "\n",
    "if mass > 3.0:\n",
    "    print(mass, \"is large\")\n",
    "else: \n",
    "    print(mass, \"is small\")"
   ]
  },
  {
   "cell_type": "code",
   "execution_count": null,
   "id": "26d7391f-5cfa-4e38-a93f-7999d92f873d",
   "metadata": {},
   "outputs": [],
   "source": [
    "data_frames = []\n",
    "\n",
    "for filename in glob.glob(\"gapminder*.csv\"):\n",
    "    if filename.endswith(\"all.csv\"):\n",
    "        print(\"nah\")\n",
    "    else:\n",
    "        print(\"Passes test:\", filename)\n",
    "        data = pd.read_csv(filename, index_col = \"country\")\n",
    "        data_frames.append(data)\n",
    "\n",
    "all_data = pd.concat(data_frames)\n",
    "print(all_data.shape)"
   ]
  },
  {
   "cell_type": "markdown",
   "id": "f55997b6-5e42-4511-8694-84f6625c8c07",
   "metadata": {},
   "source": [
    "## Challenge 1\n",
    "1. Iterate through all the CSV files in the directory\n",
    "2. Print the name and length (number of rows) of any file less than 30 rows long"
   ]
  },
  {
   "cell_type": "markdown",
   "id": "c37f882b-eeca-4b8a-8314-0bb5a5329f07",
   "metadata": {},
   "source": [
    "## Challenge 2\n",
    "1. Iterate through all the CSV files in the directory\n",
    "2. Print any file name that includes \"europe\", then print the column names for that file."
   ]
  },
  {
   "cell_type": "code",
   "execution_count": null,
   "id": "82ae3b39-4eb7-482c-80ac-617a112428af",
   "metadata": {},
   "outputs": [],
   "source": [
    "# Challenge 1 - Solution\n",
    "for filename in glob.glob(\"*.csv\"):\n",
    "    data = pd.read_csv(filename)\n",
    "    if data.shape[0] < 30:\n",
    "        print(filename, data.shape[0])"
   ]
  },
  {
   "cell_type": "code",
   "execution_count": null,
   "id": "b4a6653c-406b-4689-b8e5-81bbc531ee3b",
   "metadata": {},
   "outputs": [],
   "source": [
    "# Challenge 2 - Solution\n",
    "for filename in glob.glob(\"*.csv\"):\n",
    "    # A string is kind of like a list\n",
    "    if \"europe\" in filename.lower():\n",
    "        print(filename)\n",
    "        data = pd.read_csv(filename)\n",
    "        print(data.columns)"
   ]
  },
  {
   "cell_type": "code",
   "execution_count": null,
   "id": "d9e8c4bc-28bb-4557-bc25-b59e72e6f144",
   "metadata": {},
   "outputs": [],
   "source": [
    "# You can specify additional test with elif (else if)\n",
    "mass = 2\n",
    "\n",
    "if mass > 9.0:\n",
    "    print(mass, \"is huge\")\n",
    "elif mass > 3.0:\n",
    "    print(mass, \"is large\")\n",
    "else:\n",
    "    print(mass, \"is small\")\n",
    "    \n"
   ]
  },
  {
   "cell_type": "code",
   "execution_count": null,
   "id": "a719889d-931e-4faf-9881-d3f7fdfb65db",
   "metadata": {},
   "outputs": [],
   "source": [
    "# You can do more complicated tests\n",
    "mass = [1, 2, 3, 4, 5]\n",
    "velocity = [5, 4, 3, 2, 5]\n",
    "\n",
    "# Get each pair of measurements\n",
    "for m, v in zip(mass, velocity):\n",
    "    if m <= 3 and v <= 3:\n",
    "        print(\"Small and slow\")\n",
    "    elif m <= 3 and v > 3:\n",
    "        print(\"Small and fast\")\n",
    "    elif m > 3 and v <= 3:\n",
    "        print(\"Large and slow\")\n",
    "    else:\n",
    "        print(\"Check data\")"
   ]
  },
  {
   "cell_type": "markdown",
   "id": "cf7e0d00-0c6f-423f-bcd0-410f16ed4b77",
   "metadata": {},
   "source": [
    "# Functions"
   ]
  },
  {
   "cell_type": "code",
   "execution_count": null,
   "id": "02a0f555-860a-4475-8c15-ced7e34bbd5a",
   "metadata": {},
   "outputs": [],
   "source": [
    "def print_greeting():\n",
    "    print(\"Hello!\")"
   ]
  },
  {
   "cell_type": "code",
   "execution_count": null,
   "id": "3d718c81-7564-48f8-a240-7ccd66cd42e9",
   "metadata": {},
   "outputs": [],
   "source": [
    "print_greeting()"
   ]
  },
  {
   "cell_type": "code",
   "execution_count": null,
   "id": "c39b290a-4b8c-4883-959c-4781164d778e",
   "metadata": {},
   "outputs": [],
   "source": [
    "# Functions take arguments\n",
    "def print_date(year, month, day):\n",
    "    joined_date = \"/\".join([str(year), str(month), str(day)])\n",
    "    print(joined_date)"
   ]
  },
  {
   "cell_type": "code",
   "execution_count": null,
   "id": "d63a9bf6-8f9c-45bb-b93c-a1058a6dd18a",
   "metadata": {},
   "outputs": [],
   "source": [
    "print_date(\"1872\", \"3\", \"9\")\n",
    "print_date(1872, 3, 9)"
   ]
  },
  {
   "cell_type": "code",
   "execution_count": null,
   "id": "becd022d-cfb5-4de2-8a93-be9000f4aa7c",
   "metadata": {},
   "outputs": [],
   "source": [
    "# Test your data inside your function\n",
    "def average(values):\n",
    "    \"\"\"Return average of values, or None if no values are supplied.\"\"\"\n",
    "\n",
    "    if len(values) == 0:\n",
    "        return None\n",
    "    else:\n",
    "        return sum(values) / len(values)"
   ]
  },
  {
   "cell_type": "code",
   "execution_count": null,
   "id": "76769a8d-2621-4a6c-a274-a48ee8a5241b",
   "metadata": {},
   "outputs": [],
   "source": [
    "a1 = average([1, 2, 3])\n",
    "print(a1)"
   ]
  },
  {
   "cell_type": "code",
   "execution_count": null,
   "id": "f36c8740-20fd-460e-b3a0-03ba53979737",
   "metadata": {},
   "outputs": [],
   "source": [
    "a2 = average([])\n",
    "print(a2)"
   ]
  },
  {
   "cell_type": "code",
   "execution_count": null,
   "id": "afb98e55-8ddf-4e6b-8d7f-4e641e16ed9b",
   "metadata": {},
   "outputs": [],
   "source": [
    "#a3 = average(3)\n",
    "#print(a3)"
   ]
  },
  {
   "cell_type": "markdown",
   "id": "a0a74b35-e6ab-45c7-ae77-aaf8370caa5b",
   "metadata": {},
   "source": [
    "## Challenge\n",
    "Write a function that encapsulates the z-score calculation. your function should do the following:\n",
    "\n",
    "1. Read a csv file into a dataframe (argument to your function is a file name)\n",
    "2. Calculate the Z score for each item\n",
    "3. Calculate the mean Z score for each country\n",
    "4. Append the mean Z score as a new column\n",
    "5. Return the data frame"
   ]
  },
  {
   "cell_type": "code",
   "execution_count": null,
   "id": "6c3a66ae-cbb8-406d-9e22-791016780f87",
   "metadata": {},
   "outputs": [],
   "source": [
    "# Calculate overall mean and std\n",
    "# data.values.mean()\n",
    "# data. values.std()"
   ]
  },
  {
   "cell_type": "code",
   "execution_count": null,
   "id": "7663f159-5f3c-4861-b07e-7a521218f420",
   "metadata": {},
   "outputs": [],
   "source": [
    "pd.__version__"
   ]
  },
  {
   "cell_type": "code",
   "execution_count": null,
   "id": "a114d7ad-be7c-4bdb-8ce7-f919ced25d59",
   "metadata": {},
   "outputs": [],
   "source": [
    "# Solution\n",
    "def norm_data(filename, index_col = None):\n",
    "    \"\"\"Add a Z score to a data frame.\"\"\"\n",
    "\n",
    "    #Import the data\n",
    "    data = pd.read_csv(filename, index_col = index_col)\n",
    "    \n",
    "    # Calculate individual Z scores\n",
    "    z = (data - data.values.mean()) / data.values.std()\n",
    "\n",
    "    # Drop continent column if necessary\n",
    "    if \"continent\" in data.columns:\n",
    "        data = data.drop(\"continent\", axis = 1)\n",
    "\n",
    "    # Mean Z score for each country\n",
    "    mean_z = z.mean(axis = 1)\n",
    "\n",
    "    # Add new column to data frame\n",
    "    data[\"mean_z\"] = mean_z\n",
    "\n",
    "    return data"
   ]
  },
  {
   "cell_type": "code",
   "execution_count": null,
   "id": "0bf284c9-7833-42e8-b19b-29e80120c25b",
   "metadata": {},
   "outputs": [],
   "source": [
    "df = norm_data(\"gapminder_gdp_europe.csv\", index_col = \"country\")"
   ]
  },
  {
   "cell_type": "code",
   "execution_count": null,
   "id": "331ff1f2-fc02-4c25-99a8-ccac6f53538f",
   "metadata": {},
   "outputs": [],
   "source": [
    "df"
   ]
  },
  {
   "cell_type": "markdown",
   "id": "2594d643-b612-46e4-8e0a-9e47f2fdbc60",
   "metadata": {},
   "source": [
    "# Putting it all Together"
   ]
  },
  {
   "cell_type": "code",
   "execution_count": null,
   "id": "800a4367-45f3-4a0d-a51f-6bb94f6312bf",
   "metadata": {},
   "outputs": [],
   "source": [
    "# Get all files we care about and get Z scores by continent\n",
    "data_frames = []\n",
    "\n",
    "for filename in glob.glob(\"gapminder*.csv\"):\n",
    "    if not filename.endswith(\"all.csv\"):\n",
    "        df = norm_data(filename, index_col = \"country\")\n",
    "        data_frames.append(df)\n",
    "\n",
    "all_data = pd.concat(data_frames)\n",
    "\n",
    "print(all_data.shape)\n",
    "print(all_data.columns)"
   ]
  },
  {
   "cell_type": "code",
   "execution_count": null,
   "id": "5cf0d496-b003-45d9-ac36-c20f0341ddf3",
   "metadata": {
    "editable": true,
    "slideshow": {
     "slide_type": ""
    },
    "tags": []
   },
   "outputs": [],
   "source": []
  }
 ],
 "metadata": {
  "kernelspec": {
   "display_name": "Python 3 (ipykernel)",
   "language": "python",
   "name": "python3"
  },
  "language_info": {
   "codemirror_mode": {
    "name": "ipython",
    "version": 3
   },
   "file_extension": ".py",
   "mimetype": "text/x-python",
   "name": "python",
   "nbconvert_exporter": "python",
   "pygments_lexer": "ipython3",
   "version": "3.11.6"
  }
 },
 "nbformat": 4,
 "nbformat_minor": 5
}
