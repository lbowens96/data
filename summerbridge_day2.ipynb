{
 "cells": [
  {
   "cell_type": "code",
   "execution_count": null,
   "id": "5c971fc3-1dcd-46cc-a8e8-af42fdc9c90c",
   "metadata": {},
   "outputs": [],
   "source": [
    "3 + 7"
   ]
  },
  {
   "cell_type": "code",
   "execution_count": null,
   "id": "eaccb08a-a35b-464f-a199-5699d7fa7715",
   "metadata": {},
   "outputs": [],
   "source": [
    "print(\"hello\")"
   ]
  },
  {
   "cell_type": "code",
   "execution_count": null,
   "id": "8d6c77a7-3b22-42f1-8ea9-fb86a24702a5",
   "metadata": {},
   "outputs": [],
   "source": [
    "name = \"Lawrence\"\n",
    "age = 28"
   ]
  },
  {
   "cell_type": "code",
   "execution_count": null,
   "id": "599a5b5d-36c9-4dc8-8989-f0b2a171d5b7",
   "metadata": {},
   "outputs": [],
   "source": [
    "print(age)"
   ]
  },
  {
   "cell_type": "code",
   "execution_count": null,
   "id": "9ae1a198-9eaa-4602-ac67-3a1f02d52700",
   "metadata": {},
   "outputs": [],
   "source": [
    "# Initiates comment"
   ]
  },
  {
   "cell_type": "code",
   "execution_count": null,
   "id": "8b018b8d-a25f-45ca-b4d2-e2fceb7d29b0",
   "metadata": {},
   "outputs": [],
   "source": [
    "# Can echo without 'print'\n",
    "name"
   ]
  },
  {
   "cell_type": "markdown",
   "id": "675ac656-3bac-4a64-ad5b-cda35d77ee35",
   "metadata": {},
   "source": [
    "# Variables and Values"
   ]
  },
  {
   "cell_type": "code",
   "execution_count": null,
   "id": "518a3ecf-944d-4b03-bb14-ddd7a5fbbc51",
   "metadata": {},
   "outputs": [],
   "source": [
    "# Variables can be used in calculations\n",
    "print(age)\n",
    "age = age + 3\n",
    "print(age)"
   ]
  },
  {
   "cell_type": "code",
   "execution_count": null,
   "id": "7ecaa5db-539b-45c3-be15-bd59afc1c5d3",
   "metadata": {},
   "outputs": [],
   "source": [
    "# Order of operations matters!\n",
    "first = 1\n",
    "second = first*5\n",
    "first = 2\n",
    "\n",
    "print(first)\n",
    "print(second)"
   ]
  },
  {
   "cell_type": "code",
   "execution_count": null,
   "id": "449e4684-e90e-438c-9e7b-5799fa1ac720",
   "metadata": {},
   "outputs": [],
   "source": [
    "# Values have types. Types affect what you an do with them.\n",
    "print(5 - 3)\n",
    "# print(\"hello\" - \"h\")"
   ]
  },
  {
   "cell_type": "code",
   "execution_count": null,
   "id": "4ab35541-88fd-4c76-930f-9a2517ed00c4",
   "metadata": {},
   "outputs": [],
   "source": [
    "# 'len' function provides the length of characters in the paranthese\n",
    "print(len(\"hello\"))\n",
    "# print(len(6))"
   ]
  },
  {
   "cell_type": "markdown",
   "id": "85d57796-5f67-4d38-a75e-e4e61fd26bfb",
   "metadata": {},
   "source": [
    "## Challenge 1\n",
    "Explain what each operator does"
   ]
  },
  {
   "cell_type": "code",
   "execution_count": null,
   "id": "a4df8e4d-b3a1-412c-b1b4-7116caac1068",
   "metadata": {},
   "outputs": [],
   "source": [
    "# '//' function for floor operator; gives you main part of answer after division. For example this would normally result\n",
    "# in 1 remainder 2, so only 1 will show.\n",
    "print(5//3)\n",
    "\n",
    "# '/' function for division\n",
    "print(5/3)\n",
    "\n",
    "# '%' function is opposite of floor operator where it gives you the remainder instead of the whole after division.\n",
    "print(5%3)"
   ]
  },
  {
   "cell_type": "markdown",
   "id": "0a97d8ad-1639-4fa2-a761-f9115a12d4b1",
   "metadata": {},
   "source": [
    "# Getting Help"
   ]
  },
  {
   "cell_type": "code",
   "execution_count": null,
   "id": "9424175c-62ff-47b1-8840-6ccf57c587bb",
   "metadata": {},
   "outputs": [],
   "source": [
    "# Rounding numbers is built in\n",
    "round(3.14159)"
   ]
  },
  {
   "cell_type": "code",
   "execution_count": null,
   "id": "d33c0d05-5374-4557-9bc1-ed8114ef58a2",
   "metadata": {},
   "outputs": [],
   "source": [
    "# Rounds the number before the combo to 2 decimal places\n",
    "round(3.14159,2)"
   ]
  },
  {
   "cell_type": "code",
   "execution_count": null,
   "id": "10a42ff3-1b66-466c-828c-f1abfcbb9425",
   "metadata": {},
   "outputs": [],
   "source": [
    "# 'help' function\n",
    "help(round)"
   ]
  },
  {
   "cell_type": "code",
   "execution_count": null,
   "id": "ef0ad13d-8ff0-43e3-bf33-921c98bce865",
   "metadata": {},
   "outputs": [],
   "source": [
    "# All functions return a new value\n",
    "rounded_pi = round(3.14159,2)\n",
    "print(rounded_pi)"
   ]
  },
  {
   "cell_type": "markdown",
   "id": "6e6ea508-e46e-437f-80bc-4e2021e8844f",
   "metadata": {},
   "source": [
    "## Challenge 2\n",
    "In what order do the operations happen?"
   ]
  },
  {
   "cell_type": "code",
   "execution_count": null,
   "id": "b72cb7bb-17c5-47bb-8449-68aeaac7c990",
   "metadata": {},
   "outputs": [],
   "source": [
    "help(min)"
   ]
  },
  {
   "cell_type": "code",
   "execution_count": null,
   "id": "cfd9c375-e0a2-4fb3-9c28-673e8127acec",
   "metadata": {},
   "outputs": [],
   "source": [
    "help(max)"
   ]
  },
  {
   "cell_type": "code",
   "execution_count": null,
   "id": "e81588f7-b0f5-432c-aaf6-55c34cb50c93",
   "metadata": {},
   "outputs": [],
   "source": [
    "# Smallest value assigned to 'radiance' variable\n",
    "radiance = 1.0\n",
    "\n",
    "# Maximum value of the MINIMUM of a submitted function\n",
    "radiance = max(2.1,2.0+min(radiance, 1.1*radiance-0.5))\n",
    "\n",
    "print(radiance)"
   ]
  },
  {
   "cell_type": "code",
   "execution_count": null,
   "id": "cb408398-0e71-4b16-a1f2-9fecec64223e",
   "metadata": {},
   "outputs": [],
   "source": [
    "# Break down these operations\n",
    "radiance = 1.0\n",
    "\n",
    "# 'arg' is argument\n",
    "min_arg_2 = 1.1 * radiance - 0.5\n",
    "print (\"Min arg 2 =\", min_arg_2)\n",
    "\n",
    "min_result = min(radiance, min_arg_2)\n",
    "print(\"Min result =\", min_result)\n",
    "\n",
    "radiance = max(2.1, 2.0 + min_result)\n",
    "print(radiance)"
   ]
  },
  {
   "cell_type": "code",
   "execution_count": null,
   "id": "15599d7b-1064-4ae0-b570-b5e923a05b8b",
   "metadata": {},
   "outputs": [],
   "source": []
  }
 ],
 "metadata": {
  "kernelspec": {
   "display_name": "Python 3 (ipykernel)",
   "language": "python",
   "name": "python3"
  },
  "language_info": {
   "codemirror_mode": {
    "name": "ipython",
    "version": 3
   },
   "file_extension": ".py",
   "mimetype": "text/x-python",
   "name": "python",
   "nbconvert_exporter": "python",
   "pygments_lexer": "ipython3",
   "version": "3.11.6"
  }
 },
 "nbformat": 4,
 "nbformat_minor": 5
}
