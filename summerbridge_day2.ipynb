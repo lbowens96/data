{
 "cells": [
  {
   "cell_type": "code",
   "execution_count": null,
   "id": "5c971fc3-1dcd-46cc-a8e8-af42fdc9c90c",
   "metadata": {},
   "outputs": [],
   "source": [
    "3 + 7"
   ]
  },
  {
   "cell_type": "code",
   "execution_count": null,
   "id": "eaccb08a-a35b-464f-a199-5699d7fa7715",
   "metadata": {},
   "outputs": [],
   "source": [
    "print(\"hello\")"
   ]
  },
  {
   "cell_type": "code",
   "execution_count": null,
   "id": "8d6c77a7-3b22-42f1-8ea9-fb86a24702a5",
   "metadata": {},
   "outputs": [],
   "source": [
    "name = \"Lawrence\"\n",
    "age = 28"
   ]
  },
  {
   "cell_type": "code",
   "execution_count": null,
   "id": "599a5b5d-36c9-4dc8-8989-f0b2a171d5b7",
   "metadata": {},
   "outputs": [],
   "source": [
    "print(age)"
   ]
  },
  {
   "cell_type": "code",
   "execution_count": null,
   "id": "9ae1a198-9eaa-4602-ac67-3a1f02d52700",
   "metadata": {},
   "outputs": [],
   "source": [
    "# Initiates comment"
   ]
  },
  {
   "cell_type": "code",
   "execution_count": null,
   "id": "8b018b8d-a25f-45ca-b4d2-e2fceb7d29b0",
   "metadata": {},
   "outputs": [],
   "source": [
    "# Can echo without 'print'\n",
    "name"
   ]
  },
  {
   "cell_type": "markdown",
   "id": "675ac656-3bac-4a64-ad5b-cda35d77ee35",
   "metadata": {},
   "source": [
    "# Variables and Values"
   ]
  },
  {
   "cell_type": "code",
   "execution_count": null,
   "id": "518a3ecf-944d-4b03-bb14-ddd7a5fbbc51",
   "metadata": {},
   "outputs": [],
   "source": [
    "# Variables can be used in calculations\n",
    "print(age)\n",
    "age = age + 3\n",
    "print(age)"
   ]
  },
  {
   "cell_type": "code",
   "execution_count": null,
   "id": "7ecaa5db-539b-45c3-be15-bd59afc1c5d3",
   "metadata": {},
   "outputs": [],
   "source": [
    "# Order of operations matters!\n",
    "first = 1\n",
    "second = first*5\n",
    "first = 2\n",
    "\n",
    "print(first)\n",
    "print(second)"
   ]
  },
  {
   "cell_type": "code",
   "execution_count": null,
   "id": "449e4684-e90e-438c-9e7b-5799fa1ac720",
   "metadata": {},
   "outputs": [],
   "source": [
    "# Values have types. Types affect what you an do with them.\n",
    "print(5 - 3)\n",
    "# print(\"hello\" - \"h\")"
   ]
  },
  {
   "cell_type": "code",
   "execution_count": null,
   "id": "4ab35541-88fd-4c76-930f-9a2517ed00c4",
   "metadata": {},
   "outputs": [],
   "source": [
    "# 'len' function provides the length of characters in the paranthese\n",
    "print(len(\"hello\"))\n",
    "# print(len(6))"
   ]
  },
  {
   "cell_type": "markdown",
   "id": "85d57796-5f67-4d38-a75e-e4e61fd26bfb",
   "metadata": {},
   "source": [
    "## Challenge 1\n",
    "Explain what each operator does"
   ]
  },
  {
   "cell_type": "code",
   "execution_count": null,
   "id": "a4df8e4d-b3a1-412c-b1b4-7116caac1068",
   "metadata": {},
   "outputs": [],
   "source": [
    "# '//' function for floor operator; gives you main part of answer after division. For example this would normally result\n",
    "# in 1 remainder 2, so only 1 will show.\n",
    "print(5//3)\n",
    "\n",
    "# '/' function for division\n",
    "print(5/3)\n",
    "\n",
    "# '%' function is opposite of floor operator where it gives you the remainder instead of the whole after division.\n",
    "print(5%3)"
   ]
  },
  {
   "cell_type": "markdown",
   "id": "0a97d8ad-1639-4fa2-a761-f9115a12d4b1",
   "metadata": {},
   "source": [
    "# Getting Help"
   ]
  },
  {
   "cell_type": "code",
   "execution_count": null,
   "id": "9424175c-62ff-47b1-8840-6ccf57c587bb",
   "metadata": {},
   "outputs": [],
   "source": [
    "# Rounding numbers is built in\n",
    "round(3.14159)"
   ]
  },
  {
   "cell_type": "code",
   "execution_count": null,
   "id": "d33c0d05-5374-4557-9bc1-ed8114ef58a2",
   "metadata": {},
   "outputs": [],
   "source": [
    "# Rounds the number before the combo to 2 decimal places\n",
    "round(3.14159,2)"
   ]
  },
  {
   "cell_type": "code",
   "execution_count": null,
   "id": "10a42ff3-1b66-466c-828c-f1abfcbb9425",
   "metadata": {},
   "outputs": [],
   "source": [
    "# 'help' function\n",
    "help(round)"
   ]
  },
  {
   "cell_type": "code",
   "execution_count": null,
   "id": "ef0ad13d-8ff0-43e3-bf33-921c98bce865",
   "metadata": {},
   "outputs": [],
   "source": [
    "# All functions return a new value\n",
    "rounded_pi = round(3.14159,2)\n",
    "print(rounded_pi)"
   ]
  },
  {
   "cell_type": "markdown",
   "id": "6e6ea508-e46e-437f-80bc-4e2021e8844f",
   "metadata": {},
   "source": [
    "## Challenge 2\n",
    "In what order do the operations happen?"
   ]
  },
  {
   "cell_type": "code",
   "execution_count": null,
   "id": "b72cb7bb-17c5-47bb-8449-68aeaac7c990",
   "metadata": {},
   "outputs": [],
   "source": [
    "help(min)"
   ]
  },
  {
   "cell_type": "code",
   "execution_count": null,
   "id": "cfd9c375-e0a2-4fb3-9c28-673e8127acec",
   "metadata": {},
   "outputs": [],
   "source": [
    "help(max)"
   ]
  },
  {
   "cell_type": "code",
   "execution_count": null,
   "id": "e81588f7-b0f5-432c-aaf6-55c34cb50c93",
   "metadata": {},
   "outputs": [],
   "source": [
    "# Smallest value assigned to 'radiance' variable\n",
    "radiance = 1.0\n",
    "\n",
    "# Maximum value of the MINIMUM of a submitted function\n",
    "radiance = max(2.1,2.0+min(radiance, 1.1*radiance-0.5))\n",
    "\n",
    "print(radiance)"
   ]
  },
  {
   "cell_type": "code",
   "execution_count": null,
   "id": "cb408398-0e71-4b16-a1f2-9fecec64223e",
   "metadata": {},
   "outputs": [],
   "source": [
    "# Break down these operations\n",
    "radiance = 1.0\n",
    "\n",
    "# 'arg' is argument\n",
    "min_arg_2 = 1.1 * radiance - 0.5\n",
    "print (\"Min arg 2 =\", min_arg_2)\n",
    "\n",
    "min_result = min(radiance, min_arg_2)\n",
    "print(\"Min result =\", min_result)\n",
    "\n",
    "radiance = max(2.1, 2.0 + min_result)\n",
    "print(radiance)"
   ]
  },
  {
   "cell_type": "markdown",
   "id": "166fe67a-2757-46b9-b5d1-d67b9b5f2328",
   "metadata": {},
   "source": [
    "# Libraries"
   ]
  },
  {
   "cell_type": "code",
   "execution_count": null,
   "id": "0c85acd1-fd43-48c4-afae-4960d9cfc982",
   "metadata": {},
   "outputs": [],
   "source": [
    "import math"
   ]
  },
  {
   "cell_type": "code",
   "execution_count": null,
   "id": "b902a558-82e1-463d-9901-0a5ef4cf8411",
   "metadata": {},
   "outputs": [],
   "source": [
    "# Just pi results in an error so you have to use:\n",
    "\n",
    "math.pi"
   ]
  },
  {
   "cell_type": "code",
   "execution_count": null,
   "id": "500216ea-f5b9-4033-85d6-cc245ba70b86",
   "metadata": {},
   "outputs": [],
   "source": [
    "print(math.pi)\n",
    "print(math.cos(math.pi))"
   ]
  },
  {
   "cell_type": "code",
   "execution_count": null,
   "id": "bf475309-b93a-4e7d-a396-5bc1a95bed8a",
   "metadata": {},
   "outputs": [],
   "source": [
    "# Super useful when wanting to check all math functions\n",
    "\n",
    "help(math)"
   ]
  },
  {
   "cell_type": "code",
   "execution_count": null,
   "id": "a709aef6-ca45-4f1a-86bf-036c8016d6a6",
   "metadata": {},
   "outputs": [],
   "source": [
    "# Get a list of options with:\n",
    "\n",
    "print(dir(math)) # 'print' lists the directory with commas; Without 'print' it'll list it in a long column"
   ]
  },
  {
   "cell_type": "markdown",
   "id": "69364b7b-b297-4857-8ec1-2e3461feb517",
   "metadata": {},
   "source": [
    "# List"
   ]
  },
  {
   "cell_type": "code",
   "execution_count": null,
   "id": "71c5f2b7-1418-4f86-92e1-b699406a317b",
   "metadata": {},
   "outputs": [],
   "source": [
    "#List\n",
    "fruits = [\"apple\", \"banana\", \"cherry\", \"date\", \"elderberry\", \"fig\"]"
   ]
  },
  {
   "cell_type": "code",
   "execution_count": null,
   "id": "b527f512-ff9d-41f9-9b18-a44ffaf67702",
   "metadata": {},
   "outputs": [],
   "source": [
    "len(fruits)"
   ]
  },
  {
   "cell_type": "code",
   "execution_count": null,
   "id": "429e1474-4bff-4c19-ab02-636a9da37067",
   "metadata": {},
   "outputs": [],
   "source": [
    "# Python starts at 0 when indexing\n",
    "print(fruits[0])\n",
    "print(fruits[4])"
   ]
  },
  {
   "cell_type": "code",
   "execution_count": null,
   "id": "2ea17dd7-9108-45ef-b3aa-27227c38f4f8",
   "metadata": {},
   "outputs": [],
   "source": [
    "# Subsets by slicing list\n",
    "# First 3 items\n",
    "fruits[0:3] # [initial indexed position : indexed position +1]"
   ]
  },
  {
   "cell_type": "code",
   "execution_count": null,
   "id": "76d9a575-5dbe-4b05-9388-d120aaafce9c",
   "metadata": {},
   "outputs": [],
   "source": [
    "fruits[2:5]"
   ]
  },
  {
   "cell_type": "code",
   "execution_count": null,
   "id": "9f1dc615-d69b-4767-9e35-ceaf35722f0e",
   "metadata": {},
   "outputs": [],
   "source": [
    "# Items by step\n",
    "# Get first 5 items, every other item\n",
    "fruits[0:5:2] # [initial indexed position : indexed position +1 : step]"
   ]
  },
  {
   "cell_type": "markdown",
   "id": "10c50898-dd7f-44b7-b03d-998b4d037181",
   "metadata": {},
   "source": [
    "# Challenge 3\n",
    "\n",
    "What are the following statements doing?"
   ]
  },
  {
   "cell_type": "code",
   "execution_count": null,
   "id": "ad0bd851-b009-4f33-a32b-53e572ce4175",
   "metadata": {},
   "outputs": [],
   "source": [
    "# Calling the -1 position of the index in the opposite direction, which starts at -1 instead of 0\n",
    "print(fruits[-1])\n",
    "\n",
    "# print(fruits[20]) won't show unindexed\n",
    "\n",
    "# Calling -3 position to the end in the forward direction\n",
    "print(fruits[-3:])"
   ]
  },
  {
   "cell_type": "markdown",
   "id": "1077c948-8807-49df-81bc-7df859874221",
   "metadata": {},
   "source": [
    "# Adding Stuff to Lists"
   ]
  },
  {
   "cell_type": "code",
   "execution_count": null,
   "id": "1c328f08-f03a-4671-8085-ecef59acc9dc",
   "metadata": {},
   "outputs": [],
   "source": [
    "# Update specific item\n",
    "print(fruits)\n",
    "\n",
    "fruits[0] = \"apricot\"\n",
    "print(fruits)"
   ]
  },
  {
   "cell_type": "code",
   "execution_count": null,
   "id": "eef5d95e-eead-4b3c-a163-b4b69f3068ca",
   "metadata": {},
   "outputs": [],
   "source": [
    "# Add new items to the list\n",
    "fruits.append(\"grape\")\n",
    "\n",
    "print(fruits)"
   ]
  },
  {
   "cell_type": "code",
   "execution_count": null,
   "id": "17c6e953-d8e9-4f98-a0c2-433c08538b77",
   "metadata": {},
   "outputs": [],
   "source": [
    "# Add items from second list to first list\n",
    "more_fruits = [\"honeydew\", \"imbe\", \"jackfruit\"]\n",
    "\n",
    "fruits.extend(more_fruits) # append function would add the second list to the end of the first list instead of integrating it.\n",
    "print(fruits)"
   ]
  },
  {
   "cell_type": "code",
   "execution_count": null,
   "id": "001db000-00b6-4d8c-aec0-69568adfcf93",
   "metadata": {},
   "outputs": [],
   "source": [
    "# Many functions that operate on collections\n",
    "# For example: Assessing our wide receiving corp\n",
    "receiving_yards = [450, 370, 870, 150]\n",
    "mean_yards = sum(receiving_yards)/len(receiving_yards)\n",
    "print(mean_yards)"
   ]
  },
  {
   "cell_type": "markdown",
   "id": "819f6f5f-fb06-4c20-919c-47facf6735e6",
   "metadata": {},
   "source": [
    "# For Loops"
   ]
  },
  {
   "cell_type": "code",
   "execution_count": null,
   "id": "ae00607d-baaa-4792-a952-edec1d207175",
   "metadata": {},
   "outputs": [],
   "source": [
    "# fruit is a temporary variable so we can print every item in the fruits list (literally could be called bob)\n",
    "for fruit in fruits:\n",
    "    print(fruit)"
   ]
  },
  {
   "cell_type": "code",
   "execution_count": null,
   "id": "fd67d3c3-2425-4006-9063-3bebe19be3c9",
   "metadata": {},
   "outputs": [],
   "source": [
    "# Code blocks can contain many statements\n",
    "primes = [2, 3, 5]\n",
    "for p in primes:\n",
    "    squared = p ** 2\n",
    "    cubed = p ** 3\n",
    "    print(p, squared, cubed)"
   ]
  },
  {
   "cell_type": "code",
   "execution_count": null,
   "id": "d25a12ef-2ba2-4fc2-a8e2-31b002c6291d",
   "metadata": {},
   "outputs": [],
   "source": [
    "# Create a new collection from an existing collection\n",
    "\n",
    "primes_squared = []\n",
    "for p in primes:\n",
    "    primes_squared.append(p**2)\n",
    "\n",
    "print(primes_squared)"
   ]
  },
  {
   "cell_type": "markdown",
   "id": "6c2d321b-500d-49f3-a948-f9ebabb81683",
   "metadata": {},
   "source": [
    "## Challenge 4\n",
    "\n",
    "Get the total length of all the items in the fruits list."
   ]
  },
  {
   "cell_type": "code",
   "execution_count": null,
   "id": "45b622b4-d2bb-4c04-b489-02f8a2957fab",
   "metadata": {},
   "outputs": [],
   "source": [
    "help(sum)"
   ]
  },
  {
   "cell_type": "code",
   "execution_count": null,
   "id": "f704e01e-9309-4c4b-ad19-f30f0631f09c",
   "metadata": {},
   "outputs": [],
   "source": [
    "# Solution 1\n",
    "fruit_lengths = []\n",
    "for f in fruits:\n",
    "    fruit_lengths.append(len(f))\n",
    "\n",
    "print(fruit_lengths)\n",
    "print(sum(fruit_lengths))"
   ]
  },
  {
   "cell_type": "code",
   "execution_count": null,
   "id": "fb34454b-4fcd-43c6-b38e-32bacae9e563",
   "metadata": {},
   "outputs": [],
   "source": [
    "# Solution 2\n",
    "count = 0\n",
    "for f in fruits:\n",
    "    count = count + len(f)\n",
    "\n",
    "print(count)"
   ]
  },
  {
   "cell_type": "code",
   "execution_count": null,
   "id": "4fc179b8-5018-4ef4-b6f8-40f5ba67ae48",
   "metadata": {},
   "outputs": [],
   "source": [
    "# Solution 3\n",
    "# Generator Comprehension\n",
    "sum(len(f) for f in fruits)"
   ]
  },
  {
   "cell_type": "code",
   "execution_count": null,
   "id": "72946b27-aada-4ff6-bb3b-adc8c705818c",
   "metadata": {},
   "outputs": [],
   "source": [
    "# Solution 4 - Squishes the list into one word of characters so you can 'len' the squished word\n",
    "len(\"\".join(fruits))"
   ]
  },
  {
   "cell_type": "code",
   "execution_count": null,
   "id": "0304e408-9a9d-4df3-a79c-97c720f640a4",
   "metadata": {},
   "outputs": [],
   "source": []
  }
 ],
 "metadata": {
  "kernelspec": {
   "display_name": "Python 3 (ipykernel)",
   "language": "python",
   "name": "python3"
  },
  "language_info": {
   "codemirror_mode": {
    "name": "ipython",
    "version": 3
   },
   "file_extension": ".py",
   "mimetype": "text/x-python",
   "name": "python",
   "nbconvert_exporter": "python",
   "pygments_lexer": "ipython3",
   "version": "3.11.6"
  }
 },
 "nbformat": 4,
 "nbformat_minor": 5
}
